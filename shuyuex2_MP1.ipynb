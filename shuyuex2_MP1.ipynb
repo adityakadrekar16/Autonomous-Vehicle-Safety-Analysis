{
 "cells": [
  {
   "cell_type": "markdown",
   "metadata": {},
   "source": [
    "## MP1 Checkpoint1\n",
    "Shuyue Xiao: shuyuex2, registered       \n",
    "Aditya Hemant Kadrekar: ak31, registered    \n",
    "Chenpeng Zhao, cz28, registered"
   ]
  },
  {
   "cell_type": "code",
   "execution_count": 1,
   "metadata": {
    "colab": {},
    "colab_type": "code",
    "id": "sbaPo-fOtSG9"
   },
   "outputs": [],
   "source": [
    "import pandas as pd\n",
    "import numpy as np\n",
    "import matplotlib.pyplot as plt\n",
    "import seaborn as sns"
   ]
  },
  {
   "cell_type": "markdown",
   "metadata": {
    "colab_type": "text",
    "id": "0cOcl_SiKeeR"
   },
   "source": [
    "## TASK 0"
   ]
  },
  {
   "cell_type": "markdown",
   "metadata": {
    "colab_type": "text",
    "id": "iGiqyKjZKykE"
   },
   "source": [
    "### 1."
   ]
  },
  {
   "cell_type": "code",
   "execution_count": 78,
   "metadata": {
    "colab": {},
    "colab_type": "code",
    "id": "MTZA5GvTtSHF"
   },
   "outputs": [],
   "source": [
    "# importing the disengagement dataset\n",
    "df_disengagements = pd.read_csv('mp1_av_disengagements.csv')\n",
    "# importing the total miles dataset\n",
    "df_totalmiles = pd.read_csv('mp1_av_totalmiles.csv')"
   ]
  },
  {
   "cell_type": "code",
   "execution_count": 67,
   "metadata": {
    "colab": {
     "base_uri": "https://localhost:8080/",
     "height": 204
    },
    "colab_type": "code",
    "id": "5rW9oxeZtSHO",
    "outputId": "836a475b-0732-4012-bc59-ca09ea9acdbf"
   },
   "outputs": [
    {
     "data": {
      "text/html": [
       "<div>\n",
       "<style scoped>\n",
       "    .dataframe tbody tr th:only-of-type {\n",
       "        vertical-align: middle;\n",
       "    }\n",
       "\n",
       "    .dataframe tbody tr th {\n",
       "        vertical-align: top;\n",
       "    }\n",
       "\n",
       "    .dataframe thead th {\n",
       "        text-align: right;\n",
       "    }\n",
       "</style>\n",
       "<table border=\"1\" class=\"dataframe\">\n",
       "  <thead>\n",
       "    <tr style=\"text-align: right;\">\n",
       "      <th></th>\n",
       "      <th>Month</th>\n",
       "      <th>Car</th>\n",
       "      <th>Location</th>\n",
       "      <th>Weather</th>\n",
       "      <th>TypeOfTrigger</th>\n",
       "      <th>ReactionTime</th>\n",
       "      <th>Cause</th>\n",
       "    </tr>\n",
       "  </thead>\n",
       "  <tbody>\n",
       "    <tr>\n",
       "      <th>0</th>\n",
       "      <td>14-Sep</td>\n",
       "      <td>WDD2221851A001072</td>\n",
       "      <td>urban-street</td>\n",
       "      <td>cloudy</td>\n",
       "      <td>automatic</td>\n",
       "      <td>0.58</td>\n",
       "      <td>Incorrect Traffic Light Detection</td>\n",
       "    </tr>\n",
       "    <tr>\n",
       "      <th>1</th>\n",
       "      <td>14-Sep</td>\n",
       "      <td>WDD2221851A001072</td>\n",
       "      <td>urban-street</td>\n",
       "      <td>cloudy</td>\n",
       "      <td>automatic</td>\n",
       "      <td>0.66</td>\n",
       "      <td>Adverse road surface conditions</td>\n",
       "    </tr>\n",
       "    <tr>\n",
       "      <th>2</th>\n",
       "      <td>14-Sep</td>\n",
       "      <td>WDD2221851A001072</td>\n",
       "      <td>urban-street</td>\n",
       "      <td>cloudy</td>\n",
       "      <td>automatic</td>\n",
       "      <td>1.93</td>\n",
       "      <td>Position Estimation Failure</td>\n",
       "    </tr>\n",
       "    <tr>\n",
       "      <th>3</th>\n",
       "      <td>14-Sep</td>\n",
       "      <td>WDD2221851A001072</td>\n",
       "      <td>urban-street</td>\n",
       "      <td>cloudy</td>\n",
       "      <td>automatic</td>\n",
       "      <td>0.65</td>\n",
       "      <td>Emergency Vehicle</td>\n",
       "    </tr>\n",
       "    <tr>\n",
       "      <th>4</th>\n",
       "      <td>14-Sep</td>\n",
       "      <td>WDD2221851A001072</td>\n",
       "      <td>urban-street</td>\n",
       "      <td>cloudy</td>\n",
       "      <td>automatic</td>\n",
       "      <td>0.64</td>\n",
       "      <td>Adverse road surface conditions</td>\n",
       "    </tr>\n",
       "  </tbody>\n",
       "</table>\n",
       "</div>"
      ],
      "text/plain": [
       "    Month                Car      Location Weather TypeOfTrigger  \\\n",
       "0  14-Sep  WDD2221851A001072  urban-street  cloudy     automatic   \n",
       "1  14-Sep  WDD2221851A001072  urban-street  cloudy     automatic   \n",
       "2  14-Sep  WDD2221851A001072  urban-street  cloudy     automatic   \n",
       "3  14-Sep  WDD2221851A001072  urban-street  cloudy     automatic   \n",
       "4  14-Sep  WDD2221851A001072  urban-street  cloudy     automatic   \n",
       "\n",
       "   ReactionTime                              Cause  \n",
       "0          0.58  Incorrect Traffic Light Detection  \n",
       "1          0.66    Adverse road surface conditions  \n",
       "2          1.93        Position Estimation Failure  \n",
       "3          0.65                  Emergency Vehicle  \n",
       "4          0.64    Adverse road surface conditions  "
      ]
     },
     "execution_count": 67,
     "metadata": {},
     "output_type": "execute_result"
    }
   ],
   "source": [
    "# using the head function to get a view of the dataset\n",
    "df_disengagements.head()"
   ]
  },
  {
   "cell_type": "code",
   "execution_count": 4,
   "metadata": {
    "colab": {
     "base_uri": "https://localhost:8080/",
     "height": 204
    },
    "colab_type": "code",
    "id": "J31_txfmtSHc",
    "outputId": "c170171b-4f48-4f88-c8d3-28565f135188"
   },
   "outputs": [
    {
     "data": {
      "text/html": [
       "<div>\n",
       "<style scoped>\n",
       "    .dataframe tbody tr th:only-of-type {\n",
       "        vertical-align: middle;\n",
       "    }\n",
       "\n",
       "    .dataframe tbody tr th {\n",
       "        vertical-align: top;\n",
       "    }\n",
       "\n",
       "    .dataframe thead th {\n",
       "        text-align: right;\n",
       "    }\n",
       "</style>\n",
       "<table border=\"1\" class=\"dataframe\">\n",
       "  <thead>\n",
       "    <tr style=\"text-align: right;\">\n",
       "      <th></th>\n",
       "      <th>Month</th>\n",
       "      <th>Car</th>\n",
       "      <th>miles driven in autonomous mode</th>\n",
       "      <th>total number of disengagements</th>\n",
       "      <th>number of automatic disengagements</th>\n",
       "      <th>number of manual disengagements</th>\n",
       "    </tr>\n",
       "  </thead>\n",
       "  <tbody>\n",
       "    <tr>\n",
       "      <th>0</th>\n",
       "      <td>14-Sep</td>\n",
       "      <td>WDD2221851A001072</td>\n",
       "      <td>4207</td>\n",
       "      <td>44</td>\n",
       "      <td>24</td>\n",
       "      <td>20</td>\n",
       "    </tr>\n",
       "    <tr>\n",
       "      <th>1</th>\n",
       "      <td>14-Oct</td>\n",
       "      <td>WDD2221851A001072</td>\n",
       "      <td>23971</td>\n",
       "      <td>228</td>\n",
       "      <td>100</td>\n",
       "      <td>128</td>\n",
       "    </tr>\n",
       "    <tr>\n",
       "      <th>2</th>\n",
       "      <td>14-Nov</td>\n",
       "      <td>WDD2221851A001072</td>\n",
       "      <td>15837</td>\n",
       "      <td>141</td>\n",
       "      <td>66</td>\n",
       "      <td>75</td>\n",
       "    </tr>\n",
       "    <tr>\n",
       "      <th>3</th>\n",
       "      <td>14-Dec</td>\n",
       "      <td>WDD2221851A001072</td>\n",
       "      <td>9413</td>\n",
       "      <td>36</td>\n",
       "      <td>15</td>\n",
       "      <td>21</td>\n",
       "    </tr>\n",
       "    <tr>\n",
       "      <th>4</th>\n",
       "      <td>15-Jan</td>\n",
       "      <td>WDD2221851A001072</td>\n",
       "      <td>18192</td>\n",
       "      <td>48</td>\n",
       "      <td>18</td>\n",
       "      <td>30</td>\n",
       "    </tr>\n",
       "  </tbody>\n",
       "</table>\n",
       "</div>"
      ],
      "text/plain": [
       "    Month                Car  miles driven in autonomous mode  \\\n",
       "0  14-Sep  WDD2221851A001072                             4207   \n",
       "1  14-Oct  WDD2221851A001072                            23971   \n",
       "2  14-Nov  WDD2221851A001072                            15837   \n",
       "3  14-Dec  WDD2221851A001072                             9413   \n",
       "4  15-Jan  WDD2221851A001072                            18192   \n",
       "\n",
       "   total number of disengagements  number of automatic disengagements  \\\n",
       "0                              44                                  24   \n",
       "1                             228                                 100   \n",
       "2                             141                                  66   \n",
       "3                              36                                  15   \n",
       "4                              48                                  18   \n",
       "\n",
       "   number of manual disengagements  \n",
       "0                               20  \n",
       "1                              128  \n",
       "2                               75  \n",
       "3                               21  \n",
       "4                               30  "
      ]
     },
     "execution_count": 4,
     "metadata": {},
     "output_type": "execute_result"
    }
   ],
   "source": [
    "# using the head function to get a view of the dataset\n",
    "df_totalmiles.head()"
   ]
  },
  {
   "cell_type": "markdown",
   "metadata": {
    "colab_type": "text",
    "id": "KdJx6cEgKwyj"
   },
   "source": [
    "### 2."
   ]
  },
  {
   "cell_type": "markdown",
   "metadata": {},
   "source": [
    "### a."
   ]
  },
  {
   "cell_type": "code",
   "execution_count": 5,
   "metadata": {
    "colab": {
     "base_uri": "https://localhost:8080/",
     "height": 34
    },
    "colab_type": "code",
    "id": "E0PL6PYKtSHj",
    "outputId": "09866d07-0ca5-4fb6-bee8-7718e9ffbdef"
   },
   "outputs": [
    {
     "data": {
      "text/plain": [
       "1024"
      ]
     },
     "execution_count": 5,
     "metadata": {},
     "output_type": "execute_result"
    }
   ],
   "source": [
    "# total number of disengagements over the entire duration of available data\n",
    "len(df_disengagements)"
   ]
  },
  {
   "cell_type": "markdown",
   "metadata": {},
   "source": [
    "### b."
   ]
  },
  {
   "cell_type": "code",
   "execution_count": 6,
   "metadata": {
    "colab": {},
    "colab_type": "code",
    "id": "UGPXBj2NtSHp"
   },
   "outputs": [],
   "source": [
    "# creating a new column which separates the month and year from the Month column\n",
    "df_disengagements['sep_month'] = df_disengagements['Month'].apply(lambda x:x.split('-')[1])"
   ]
  },
  {
   "cell_type": "code",
   "execution_count": 7,
   "metadata": {
    "colab": {
     "base_uri": "https://localhost:8080/",
     "height": 51
    },
    "colab_type": "code",
    "id": "5r6tejPmtSHt",
    "outputId": "7c22a2d2-0fdf-4dc2-e5e0-feeb10dc1d24"
   },
   "outputs": [
    {
     "data": {
      "text/plain": [
       "array(['Sep', 'Oct', 'Nov', 'Dec', 'Jan', 'Feb', 'Mar', 'Apr', 'May',\n",
       "       'Jun', 'Jul', 'Aug'], dtype=object)"
      ]
     },
     "execution_count": 7,
     "metadata": {},
     "output_type": "execute_result"
    }
   ],
   "source": [
    "# unique function gives the unique values in sep_month\n",
    "df_disengagements['sep_month'].unique()"
   ]
  },
  {
   "cell_type": "code",
   "execution_count": 8,
   "metadata": {},
   "outputs": [
    {
     "data": {
      "text/plain": [
       "12"
      ]
     },
     "execution_count": 8,
     "metadata": {},
     "output_type": "execute_result"
    }
   ],
   "source": [
    "# number of unique months that have recorded AV disengagements\n",
    "len(df_disengagements['sep_month'].unique())"
   ]
  },
  {
   "cell_type": "markdown",
   "metadata": {},
   "source": [
    "### c."
   ]
  },
  {
   "cell_type": "code",
   "execution_count": 9,
   "metadata": {
    "colab": {
     "base_uri": "https://localhost:8080/",
     "height": 34
    },
    "colab_type": "code",
    "id": "RMcRuAGStSH1",
    "outputId": "44412e42-7751-4f8b-bbf2-2efa9b49b979"
   },
   "outputs": [
    {
     "data": {
      "text/plain": [
       "array(['urban-street', 'highway'], dtype=object)"
      ]
     },
     "execution_count": 9,
     "metadata": {},
     "output_type": "execute_result"
    }
   ],
   "source": [
    "# list of unique locations of AV disengagements\n",
    "df_disengagements['Location'].unique()"
   ]
  },
  {
   "cell_type": "markdown",
   "metadata": {},
   "source": [
    "### d."
   ]
  },
  {
   "cell_type": "code",
   "execution_count": 10,
   "metadata": {
    "colab": {
     "base_uri": "https://localhost:8080/",
     "height": 119
    },
    "colab_type": "code",
    "id": "2TvGnxhCtSH7",
    "outputId": "bd571929-49f5-42f2-c436-1f7f7a939001"
   },
   "outputs": [
    {
     "data": {
      "text/plain": [
       "array(['Incorrect Traffic Light Detection',\n",
       "       'Adverse road surface conditions', 'Position Estimation Failure',\n",
       "       'Emergency Vehicle', 'Software Froze', 'Hardware Fault',\n",
       "       'Incorrect behavior prediction of others',\n",
       "       'Recklessly behaving agent', 'System Tuning and Calibration',\n",
       "       'Unwanted Driver Discomfort'], dtype=object)"
      ]
     },
     "execution_count": 10,
     "metadata": {},
     "output_type": "execute_result"
    }
   ],
   "source": [
    "df_disengagements['Cause'].unique()"
   ]
  },
  {
   "cell_type": "code",
   "execution_count": 11,
   "metadata": {},
   "outputs": [
    {
     "data": {
      "text/plain": [
       "10"
      ]
     },
     "execution_count": 11,
     "metadata": {},
     "output_type": "execute_result"
    }
   ],
   "source": [
    "# number of unique causes for AV disengagements\n",
    "len(df_disengagements['Cause'].unique())"
   ]
  },
  {
   "cell_type": "markdown",
   "metadata": {},
   "source": [
    "### e."
   ]
  },
  {
   "cell_type": "code",
   "execution_count": 12,
   "metadata": {
    "colab": {
     "base_uri": "https://localhost:8080/",
     "height": 238
    },
    "colab_type": "code",
    "id": "rMTB9ZXJtSIC",
    "outputId": "069637b2-d50f-4bcf-bafd-b4635e762f21"
   },
   "outputs": [
    {
     "name": "stdout",
     "output_type": "stream",
     "text": [
      "<class 'pandas.core.frame.DataFrame'>\n",
      "RangeIndex: 1024 entries, 0 to 1023\n",
      "Data columns (total 8 columns):\n",
      "Month            1024 non-null object\n",
      "Car              1024 non-null object\n",
      "Location         1024 non-null object\n",
      "Weather          1024 non-null object\n",
      "TypeOfTrigger    1024 non-null object\n",
      "ReactionTime     492 non-null float64\n",
      "Cause            1024 non-null object\n",
      "sep_month        1024 non-null object\n",
      "dtypes: float64(1), object(7)\n",
      "memory usage: 64.1+ KB\n"
     ]
    }
   ],
   "source": [
    "df_disengagements.info(null_counts=True)"
   ]
  },
  {
   "cell_type": "code",
   "execution_count": 13,
   "metadata": {
    "colab": {
     "base_uri": "https://localhost:8080/",
     "height": 34
    },
    "colab_type": "code",
    "id": "Vydd3tP4tSII",
    "outputId": "d868196c-53d2-4187-9b15-e20d4a63bcaf"
   },
   "outputs": [
    {
     "data": {
      "text/plain": [
       "True"
      ]
     },
     "execution_count": 13,
     "metadata": {},
     "output_type": "execute_result"
    }
   ],
   "source": [
    "df_disengagements['ReactionTime'].isnull().values.any()"
   ]
  },
  {
   "cell_type": "code",
   "execution_count": 14,
   "metadata": {
    "colab": {
     "base_uri": "https://localhost:8080/",
     "height": 34
    },
    "colab_type": "code",
    "id": "ntnhndPitSIN",
    "outputId": "7f357e16-1684-498d-88c8-791c85abf202"
   },
   "outputs": [
    {
     "data": {
      "text/plain": [
       "532"
      ]
     },
     "execution_count": 14,
     "metadata": {},
     "output_type": "execute_result"
    }
   ],
   "source": [
    "# number of missing values (NAs commonly occur in real world datasets)\n",
    "df_disengagements.isnull().sum().sum()"
   ]
  },
  {
   "cell_type": "markdown",
   "metadata": {},
   "source": [
    "### 3."
   ]
  },
  {
   "cell_type": "code",
   "execution_count": 15,
   "metadata": {
    "colab": {
     "base_uri": "https://localhost:8080/",
     "height": 221
    },
    "colab_type": "code",
    "id": "J2pDyLqfGxzD",
    "outputId": "c4225314-22d5-4d64-cb36-465c5706abea"
   },
   "outputs": [
    {
     "data": {
      "text/plain": [
       "Cause\n",
       "Adverse road surface conditions             85\n",
       "Emergency Vehicle                           98\n",
       "Hardware Fault                             104\n",
       "Incorrect Traffic Light Detection           96\n",
       "Incorrect behavior prediction of others    109\n",
       "Position Estimation Failure                 80\n",
       "Recklessly behaving agent                  124\n",
       "Software Froze                              98\n",
       "System Tuning and Calibration              102\n",
       "Unwanted Driver Discomfort                 128\n",
       "dtype: int64"
      ]
     },
     "execution_count": 15,
     "metadata": {},
     "output_type": "execute_result"
    }
   ],
   "source": [
    "df_disengagements.groupby('Cause').size()"
   ]
  },
  {
   "cell_type": "code",
   "execution_count": 16,
   "metadata": {
    "colab": {
     "base_uri": "https://localhost:8080/",
     "height": 330
    },
    "colab_type": "code",
    "id": "FS0IK53-tSIc",
    "outputId": "c0e2fca4-afb6-400f-acb0-143f02948f4c"
   },
   "outputs": [
    {
     "data": {
      "image/png": "[encoded data removed]",
      "text/plain": [
       "<Figure size 432x288 with 1 Axes>"
      ]
     },
     "metadata": {},
     "output_type": "display_data"
    }
   ],
   "source": [
    "# plot a pie chart for the causes of AV disengagement\n",
    "labels = df_disengagements['Cause'].unique()\n",
    "explode = (0.1, 0, 0, 0, 0, 0, 0, 0, 0, 0)\n",
    "colors = ['gold', 'yellowgreen', 'lightcoral', 'lightskyblue', 'cyan', 'grey', 'red', 'white', 'brown', 'pink']\n",
    "plt.pie(df_disengagements.groupby('Cause').size(), explode=explode, shadow=True, labels=labels, autopct='%1.1f%%', colors=colors)\n",
    "plt.title('Causes of AV disengagement')\n",
    "plt.show()"
   ]
  },
  {
   "cell_type": "markdown",
   "metadata": {
    "colab_type": "text",
    "id": "4pA915VnNtxX"
   },
   "source": [
    "Unwated Driver Discomfort & Incorrect behavior prediction of others are the top 2 leading causes of disengagement."
   ]
  },
  {
   "cell_type": "markdown",
   "metadata": {
    "colab_type": "text",
    "id": "JHDLF5X7K1wE"
   },
   "source": [
    "### 4."
   ]
  },
  {
   "cell_type": "code",
   "execution_count": 17,
   "metadata": {},
   "outputs": [],
   "source": [
    "df_totalmiles['disen/miles'] = df_totalmiles['total number of disengagements']/df_totalmiles['miles driven in autonomous mode']"
   ]
  },
  {
   "cell_type": "code",
   "execution_count": 18,
   "metadata": {},
   "outputs": [],
   "source": [
    "# creating a new column which separates the month and year from the Month column\n",
    "df_totalmiles['sep_month'] = df_totalmiles['Month'].apply(lambda x:x.split('-')[1])"
   ]
  },
  {
   "cell_type": "code",
   "execution_count": 19,
   "metadata": {
    "colab": {},
    "colab_type": "code",
    "id": "FYqlK7mwFoOM"
   },
   "outputs": [],
   "source": [
    "# changing the date format for Month\n",
    "df_totalmiles['Month'] = pd.to_datetime(df_totalmiles['Month'], format=\"%y-%b\")"
   ]
  },
  {
   "cell_type": "code",
   "execution_count": 20,
   "metadata": {
    "colab": {
     "base_uri": "https://localhost:8080/",
     "height": 609
    },
    "colab_type": "code",
    "id": "63tRQb6WtSIs",
    "outputId": "358878b5-8478-4db9-c305-25528343ddf0"
   },
   "outputs": [
    {
     "data": {
      "text/plain": [
       "Text(0.5,1,'Disengagement/mile over time with monthly granularity')"
      ]
     },
     "execution_count": 20,
     "metadata": {},
     "output_type": "execute_result"
    },
    {
     "data": {
      "image/png": "[encoded data removed]",
      "text/plain": [
       "<Figure size 1440x720 with 1 Axes>"
      ]
     },
     "metadata": {},
     "output_type": "display_data"
    }
   ],
   "source": [
    "# visualizing the trend of disengagement/mile over time with monthly granularity.\n",
    "plt.figure(figsize = (20,10))\n",
    "plt.plot(df_totalmiles.groupby('Month')['disen/miles'].mean())\n",
    "plt.xlabel('Year')\n",
    "plt.ylabel('Mean')\n",
    "plt.title('Disengagement/mile over time with monthly granularity')"
   ]
  },
  {
   "cell_type": "markdown",
   "metadata": {
    "colab_type": "text",
    "id": "SNO5eOOMXOzH"
   },
   "source": [
    "The trend follows an expoential curve as it falls off with a steep decrease. It is maturing over time."
   ]
  },
  {
   "cell_type": "markdown",
   "metadata": {
    "colab_type": "text",
    "id": "Im3gjLiQJ5B5"
   },
   "source": [
    "## TASK I"
   ]
  },
  {
   "cell_type": "markdown",
   "metadata": {
    "colab_type": "text",
    "id": "YgcZ5EHXVwc_"
   },
   "source": [
    "### 1."
   ]
  },
  {
   "cell_type": "markdown",
   "metadata": {
    "colab_type": "text",
    "id": "OJvMLiTiJ8Gi"
   },
   "source": [
    "\n",
    "*  If samples are drawn from a random variable that follows the Gaussian distribution, the samples concentrate on mean value, which means that the more close to the mean value, the higher frenquency the observations have.  \n",
    "*  If samples are drawn from a random variable that follows the exponential distribution, the numbers of observations decrease sharply and then slower as the value increasing. \n",
    "* Weibull distribution depends on  λ  and k values. For some  λ  and k values, the distribution is the same as Gaussian distribution. For some  λ  and k values, the distribution looks like exponential distribution. \n",
    "\n",
    "     "
   ]
  },
  {
   "cell_type": "markdown",
   "metadata": {
    "colab_type": "text",
    "id": "UZ3Iyr-aPXzo"
   },
   "source": [
    "### 2."
   ]
  },
  {
   "cell_type": "code",
   "execution_count": 21,
   "metadata": {
    "colab": {
     "base_uri": "https://localhost:8080/",
     "height": 412
    },
    "colab_type": "code",
    "id": "nJ0fjkCCDaX8",
    "outputId": "cf155034-a972-45e8-e2bd-355dccf436ae"
   },
   "outputs": [
    {
     "data": {
      "image/png": "[encoded data removed]",
      "text/plain": [
       "<Figure size 432x288 with 1 Axes>"
      ]
     },
     "metadata": {},
     "output_type": "display_data"
    }
   ],
   "source": [
    "# remove missing values\n",
    "df_dismiss = df_disengagements.dropna()\n",
    "sns.distplot(df_dismiss['ReactionTime'])\n",
    "plt.title('Probability distribution of reaction times')\n",
    "plt.ylabel('Count')\n",
    "plt.show()"
   ]
  },
  {
   "cell_type": "markdown",
   "metadata": {
    "colab_type": "text",
    "id": "lwxUza3E2r3k"
   },
   "source": [
    "The distribution fits a Weibull distribution. The fit distribution signify has one peak and looks not symmetrical because it has long tail. Therefore, the samples are more likely drawn from Weibull distribution."
   ]
  },
  {
   "cell_type": "markdown",
   "metadata": {
    "colab_type": "text",
    "id": "cvcXdDWKPa7e"
   },
   "source": [
    "### 3. "
   ]
  },
  {
   "cell_type": "markdown",
   "metadata": {},
   "source": [
    "### a."
   ]
  },
  {
   "cell_type": "code",
   "execution_count": 22,
   "metadata": {
    "colab": {},
    "colab_type": "code",
    "id": "dWbrEkjJyKLv"
   },
   "outputs": [
    {
     "data": {
      "text/plain": [
       "0.9297703252032526"
      ]
     },
     "execution_count": 22,
     "metadata": {},
     "output_type": "execute_result"
    }
   ],
   "source": [
    "### average reaction time for entire duration of dataset\n",
    "df_disengagements['ReactionTime'].mean()"
   ]
  },
  {
   "cell_type": "markdown",
   "metadata": {},
   "source": [
    "### b."
   ]
  },
  {
   "cell_type": "code",
   "execution_count": 23,
   "metadata": {
    "colab": {},
    "colab_type": "code",
    "id": "cNmhH6TIy2WP"
   },
   "outputs": [
    {
     "data": {
      "text/plain": [
       "Location\n",
       "highway         1.48000\n",
       "urban-street    0.92865\n",
       "Name: ReactionTime, dtype: float64"
      ]
     },
     "execution_count": 23,
     "metadata": {},
     "output_type": "execute_result"
    }
   ],
   "source": [
    "### average reaction time for entire duration of dataset differentiated by location of disengagement\n",
    "df_disengagements.groupby('Location')['ReactionTime'].mean()"
   ]
  },
  {
   "cell_type": "markdown",
   "metadata": {
    "colab_type": "text",
    "id": "sNRmxS6wPp2G"
   },
   "source": [
    "### 4.\n"
   ]
  },
  {
   "cell_type": "markdown",
   "metadata": {
    "colab_type": "text",
    "id": "yMv96Xl7QVbW"
   },
   "source": [
    "Suppose X is from the AV sample with mean 0.9, we want to check if the mean of X equals to the mean reaction value of Non-AVs $\\mu=0.93$\n",
    "$$H_{0}: \\bar{X} = \\mu \\quad vs.\\quad H_{A}: \\bar{X} \\neq \\mu$$\n",
    "Test statistic $t = \\frac{\\bar{X}-\\mu}{s/\\sqrt{n}} = \\frac{1.09-0.93}{1.694/\\sqrt{1024}} = 4.24$ \\\\\n",
    "According to the T distribution table, when the degree of freedom is greater than 500, the t value i.e 4.24 is to the right which indicates a very low p-value. \\\\\n",
    "Thus, we reject the null hypothesis at $\\alpha = 0.05$"
   ]
  },
  {
   "cell_type": "markdown",
   "metadata": {
    "colab_type": "text",
    "id": "B2gJ6MSpPesb"
   },
   "source": [
    "### 5."
   ]
  },
  {
   "cell_type": "code",
   "execution_count": 24,
   "metadata": {
    "colab": {},
    "colab_type": "code",
    "id": "3j3WxVMcA3tT"
   },
   "outputs": [
    {
     "data": {
      "image/png": "[encoded data removed]",
      "text/plain": [
       "<Figure size 432x288 with 1 Axes>"
      ]
     },
     "metadata": {},
     "output_type": "display_data"
    }
   ],
   "source": [
    "### probability distribution of disengagement/mile with monthly granularity\n",
    "sns.distplot(df_totalmiles['disen/miles'])\n",
    "plt.ylabel('Count')\n",
    "plt.title('disengagement/mile with monthly granularity')\n",
    "plt.show()"
   ]
  },
  {
   "cell_type": "markdown",
   "metadata": {
    "colab_type": "text",
    "id": "R-Y0uDaPUciy"
   },
   "source": [
    "The above probability distribution does not fit any known distribution. The fit distribution signifies two peaks. More specifically, the samples are drawn from Bimodal distribution."
   ]
  },
  {
   "cell_type": "markdown",
   "metadata": {},
   "source": [
    "# TASK 2"
   ]
  },
  {
   "cell_type": "markdown",
   "metadata": {},
   "source": [
    "## 1\n",
    "\n",
    "### a.\n",
    "\n",
    "\n"
   ]
  },
  {
   "cell_type": "markdown",
   "metadata": {},
   "source": [
    "The assumption on maximum number of disengagements in a mile allows us to treat the occurrence of a disengagement in a mile as a random variable with a **bernoulli** distribution."
   ]
  },
  {
   "cell_type": "markdown",
   "metadata": {},
   "source": [
    "### b."
   ]
  },
  {
   "cell_type": "code",
   "execution_count": 25,
   "metadata": {},
   "outputs": [
    {
     "data": {
      "text/plain": [
       "835"
      ]
     },
     "execution_count": 25,
     "metadata": {},
     "output_type": "execute_result"
    }
   ],
   "source": [
    "# checking the number of disengagements which happened during cloudy weather\n",
    "len(df_disengagements[df_disengagements['Weather'] == 'cloudy'])"
   ]
  },
  {
   "cell_type": "code",
   "execution_count": 26,
   "metadata": {},
   "outputs": [
    {
     "data": {
      "text/plain": [
       "189"
      ]
     },
     "execution_count": 26,
     "metadata": {},
     "output_type": "execute_result"
    }
   ],
   "source": [
    "# checking the number of disengagements which happened during clear weather\n",
    "len(df_disengagements[df_disengagements['Weather'] == 'clear'])"
   ]
  },
  {
   "cell_type": "code",
   "execution_count": 27,
   "metadata": {},
   "outputs": [
    {
     "data": {
      "text/plain": [
       "0.005902556775527249"
      ]
     },
     "execution_count": 27,
     "metadata": {},
     "output_type": "execute_result"
    }
   ],
   "source": [
    "# probability of disengagement per mile on a cloudy day\n",
    "len(df_disengagements[df_disengagements['Weather'] == 'cloudy'])/(df_totalmiles['miles driven in autonomous mode'].sum() * 0.28)"
   ]
  },
  {
   "cell_type": "markdown",
   "metadata": {},
   "source": [
    "### c."
   ]
  },
  {
   "cell_type": "code",
   "execution_count": 28,
   "metadata": {},
   "outputs": [
    {
     "data": {
      "text/plain": [
       "0.005902556775527249"
      ]
     },
     "execution_count": 28,
     "metadata": {},
     "output_type": "execute_result"
    }
   ],
   "source": [
    "# probability of disengagement per mile on a cloudy day\n",
    "len(df_disengagements[df_disengagements['Weather'] == 'cloudy'])/(df_totalmiles['miles driven in autonomous mode'].sum() * 0.28)"
   ]
  },
  {
   "cell_type": "markdown",
   "metadata": {},
   "source": [
    "### d."
   ]
  },
  {
   "cell_type": "code",
   "execution_count": 29,
   "metadata": {},
   "outputs": [
    {
     "data": {
      "text/plain": [
       "0.0028063653172267283"
      ]
     },
     "execution_count": 29,
     "metadata": {},
     "output_type": "execute_result"
    }
   ],
   "source": [
    "# probability of automatic disengagement per mile on a cloudy day -> P(automatic disengagement per mile in cloudy day) \n",
    "len(df_disengagements[(df_disengagements['TypeOfTrigger'] == 'automatic') & (df_disengagements['Weather'] == 'cloudy')])/(df_totalmiles['miles driven in autonomous mode'].sum() * 0.28)"
   ]
  },
  {
   "cell_type": "code",
   "execution_count": 30,
   "metadata": {},
   "outputs": [
    {
     "data": {
      "text/plain": [
       "0.00026390673008345393"
      ]
     },
     "execution_count": 30,
     "metadata": {},
     "output_type": "execute_result"
    }
   ],
   "source": [
    "# probability of automatic disengagement per mile on a clear day -> P(automatic disengagement per mile in clear day)\n",
    "len(df_disengagements[(df_disengagements['TypeOfTrigger'] == 'automatic') & (df_disengagements['Weather'] == 'clear')])/(df_totalmiles['miles driven in autonomous mode'].sum() * 0.72)"
   ]
  },
  {
   "cell_type": "markdown",
   "metadata": {},
   "source": [
    "### e."
   ]
  },
  {
   "cell_type": "markdown",
   "metadata": {},
   "source": [
    "Denote $X_{i}$ as a random variable from (a) that follows Bernoulli(p), p is calculated in (b), which is 0.0059.\n",
    "$$Denote \\quad Y = \\sum_{i=1}^{10000}X_{i} \\sim  Binomial(10000,p)$$\n",
    "$$E(Y) = np=59, Var(Y)=np(1-p)=58.6519$$\n",
    "The aymmptotic distribution is \n",
    "$$Z = \\frac{Y-np}{\\sqrt{np(1-p)}} = \\frac{Y-59}{\\sqrt{58.6519}} \\sim N(0,1)$$\n",
    "When Y = 150,  Z = 11.88, \\\\\n",
    "$\\therefore \\quad P(Z \\geq 11.88) \\approx 0$ \n",
    "\n",
    "Therefore, in 10000 miles it is very unlikely to have 150 or more disengagements under cloudy days."
   ]
  },
  {
   "cell_type": "markdown",
   "metadata": {},
   "source": [
    "## 2."
   ]
  },
  {
   "cell_type": "markdown",
   "metadata": {},
   "source": [
    "Let $\\widehat{p}_{1}$= 0.0059, the probability of disengagement per mile on a cloudy day,  $\\widehat{p}_{2}$= 0.00052, the probability of disengagement per mile on a clear day.\n",
    "$$H_{0}: p_{1} > p_{2} \\quad  H_{A}: p_{1}\\leq p_{2}$$\n",
    "Z-Test Statistic for two proportions:\n",
    "$$Z \\cong \\frac{(\\widehat{p}_{1}-\\widehat{p}_{2}) - (p_{1} - p_{2})}{\\sqrt{\\widehat{p}(1-\\widehat{p})(\\frac{1}{n_{1}}+ \\frac{1}{n_{2} })}}, \\quad where \\quad \\widehat{p} = \\frac{X_{1}+X_{2}}{n_{1}+n_{2}}$$\n",
    "$X_{1}$is the total number of cloudy day, $X_{2}$is the total number of clear day, $n_{1}+n_{2}$is the total miles"
   ]
  },
  {
   "cell_type": "code",
   "execution_count": 31,
   "metadata": {},
   "outputs": [
    {
     "data": {
      "text/plain": [
       "0.0020268036870409261"
      ]
     },
     "execution_count": 31,
     "metadata": {},
     "output_type": "execute_result"
    }
   ],
   "source": [
    "# p_hat\n",
    "(len(df_disengagements[df_disengagements['Weather'] == 'cloudy'])+len(df_disengagements[df_disengagements['Weather'] == 'clear']))/df_totalmiles['miles driven in autonomous mode'].sum()"
   ]
  },
  {
   "cell_type": "code",
   "execution_count": 32,
   "metadata": {},
   "outputs": [
    {
     "data": {
      "text/plain": [
       "4.3867070871651753e-05"
      ]
     },
     "execution_count": 32,
     "metadata": {},
     "output_type": "execute_result"
    }
   ],
   "source": [
    "# denominator for the Z-Test formula\n",
    "np.sqrt((0.002*0.098*(1/(df_totalmiles['miles driven in autonomous mode'].sum() * 0.28) + 1/(df_totalmiles['miles driven in autonomous mode'].sum() * 0.72))))"
   ]
  },
  {
   "cell_type": "markdown",
   "metadata": {},
   "source": [
    "Plug in all the values:\n",
    "$$Z = \\frac{0.0059 - 0.00052}{4.39\\times e^{-5}} = 122.55$$\n",
    "\n",
    "The Z value is large enough to accept null hypothesis, therefore, in cloudy weather, AVs are more unsafty than clear days."
   ]
  },
  {
   "cell_type": "markdown",
   "metadata": {},
   "source": [
    "## 3."
   ]
  },
  {
   "cell_type": "code",
   "execution_count": 33,
   "metadata": {},
   "outputs": [],
   "source": [
    "# dropping the missing values since missing values will give incorrect results\n",
    "df_cloudy = df_disengagements[(df_disengagements['TypeOfTrigger'] == 'automatic') & (df_disengagements['Weather'] == 'cloudy')]\n",
    "df_cloudy = df_cloudy.dropna()"
   ]
  },
  {
   "cell_type": "code",
   "execution_count": 34,
   "metadata": {},
   "outputs": [
    {
     "data": {
      "text/plain": [
       "0.5417721518987342"
      ]
     },
     "execution_count": 34,
     "metadata": {},
     "output_type": "execute_result"
    }
   ],
   "source": [
    "# the conditional probability that the reaction time greater than 0.5s given that the weather is cloudy\n",
    "len(df_cloudy[df_cloudy['ReactionTime']>0.5])/len(df_cloudy)"
   ]
  },
  {
   "cell_type": "code",
   "execution_count": 35,
   "metadata": {},
   "outputs": [],
   "source": [
    "# dropping the missing values since missing values will give incorrect results\n",
    "df_clear = df_disengagements[(df_disengagements['TypeOfTrigger'] == 'automatic') & (df_disengagements['Weather'] == 'clear')]\n",
    "df_clear = df_clear.dropna()"
   ]
  },
  {
   "cell_type": "code",
   "execution_count": 36,
   "metadata": {},
   "outputs": [
    {
     "data": {
      "text/plain": [
       "0.3854166666666667"
      ]
     },
     "execution_count": 36,
     "metadata": {},
     "output_type": "execute_result"
    }
   ],
   "source": [
    "# the conditional probability that the reaction time greater than 0.5s given that the weather is cloudy\n",
    "len(df_clear[df_clear['ReactionTime']>0.7])/len(df_clear)"
   ]
  },
  {
   "cell_type": "markdown",
   "metadata": {},
   "source": [
    "## 4."
   ]
  },
  {
   "cell_type": "markdown",
   "metadata": {},
   "source": [
    "Using the total probability theorem and the conditional probabilities found in question 3. Denote the event $A_{1}$as automatic disengagement per mile in cloudy day, denote $A_{2}$as automatic disengagement per mile in clear day.\n",
    "From question 1.d, we know $P(A_{1})=0.0028$ and $P(A_{2}\n",
    ")= 0.00026$\n",
    "\n",
    "$$P(accident) = P(accident| A_{1})P(A_{1}) + P(accident|A_{2})P(A_{2})$$\n",
    "$$=0.542*0.0028+0.385*0.00026 = 0.0016=1.6 \\times e^{-3}$$"
   ]
  },
  {
   "cell_type": "markdown",
   "metadata": {},
   "source": [
    "## 5."
   ]
  },
  {
   "cell_type": "markdown",
   "metadata": {},
   "source": [
    "The probability of a human driver causing an accident is much smaller $2 \\times e^{-6} $ in comparison to AVs causing accident which is $1.6 \\times e^{-3} $. When an AV is on the road, in the case of an disengagement, the time it takes for a human to react is slower at times (considering that the human depends on the AV to do most of the work), thus causing many accidents whereas in case of a human driver driving a car, the driver's sole focus is on the road and in case of any problems the driver is quick to react in most of the cases, thus resulting in fewer accidents."
   ]
  },
  {
   "cell_type": "markdown",
   "metadata": {},
   "source": [
    "# TASK 3"
   ]
  },
  {
   "cell_type": "markdown",
   "metadata": {},
   "source": [
    "### 1."
   ]
  },
  {
   "cell_type": "code",
   "execution_count": 79,
   "metadata": {},
   "outputs": [],
   "source": [
    "# adding a new variable \"Class\" to df_disengagements           \n",
    "df_disengagements.loc[(df_disengagements['Cause'] == 'Incorrect behavior prediction of others') | \\\n",
    "                      (df_disengagements['Cause'] == 'Recklessly behaving agent') | \\\n",
    "                      (df_disengagements['Cause'] == 'Unwanted Driver Discomfort'),'Class']='Controller'\n",
    "df_disengagements.loc[(df_disengagements['Cause'] == 'Adverse road surface conditions') |\\\n",
    "                      (df_disengagements['Cause'] == 'Emergency Vehicle') | \\\n",
    "                      (df_disengagements['Cause'] == 'Position Estimation Failure') |\\\n",
    "                      (df_disengagements['Cause'] == 'Incorrect Traffic Light Detection'),'Class']='Perception System'\n",
    "df_disengagements.loc[(df_disengagements['Cause'] == 'System Tuning and Calibration') |\\\n",
    "                      (df_disengagements['Cause'] == 'Hardware Fault') |\\\n",
    "                      (df_disengagements['Cause'] == 'Software Froze'),'Class']='Computer System'\n",
    "\n",
    "    "
   ]
  },
  {
   "cell_type": "code",
   "execution_count": 81,
   "metadata": {},
   "outputs": [
    {
     "data": {
      "text/html": [
       "<div>\n",
       "<style scoped>\n",
       "    .dataframe tbody tr th:only-of-type {\n",
       "        vertical-align: middle;\n",
       "    }\n",
       "\n",
       "    .dataframe tbody tr th {\n",
       "        vertical-align: top;\n",
       "    }\n",
       "\n",
       "    .dataframe thead th {\n",
       "        text-align: right;\n",
       "    }\n",
       "</style>\n",
       "<table border=\"1\" class=\"dataframe\">\n",
       "  <thead>\n",
       "    <tr style=\"text-align: right;\">\n",
       "      <th></th>\n",
       "      <th>Month</th>\n",
       "      <th>Car</th>\n",
       "      <th>Location</th>\n",
       "      <th>Weather</th>\n",
       "      <th>TypeOfTrigger</th>\n",
       "      <th>ReactionTime</th>\n",
       "      <th>Cause</th>\n",
       "      <th>Class</th>\n",
       "    </tr>\n",
       "  </thead>\n",
       "  <tbody>\n",
       "    <tr>\n",
       "      <th>0</th>\n",
       "      <td>14-Sep</td>\n",
       "      <td>WDD2221851A001072</td>\n",
       "      <td>urban-street</td>\n",
       "      <td>cloudy</td>\n",
       "      <td>automatic</td>\n",
       "      <td>0.58</td>\n",
       "      <td>Incorrect Traffic Light Detection</td>\n",
       "      <td>Perception System</td>\n",
       "    </tr>\n",
       "    <tr>\n",
       "      <th>1</th>\n",
       "      <td>14-Sep</td>\n",
       "      <td>WDD2221851A001072</td>\n",
       "      <td>urban-street</td>\n",
       "      <td>cloudy</td>\n",
       "      <td>automatic</td>\n",
       "      <td>0.66</td>\n",
       "      <td>Adverse road surface conditions</td>\n",
       "      <td>Perception System</td>\n",
       "    </tr>\n",
       "    <tr>\n",
       "      <th>2</th>\n",
       "      <td>14-Sep</td>\n",
       "      <td>WDD2221851A001072</td>\n",
       "      <td>urban-street</td>\n",
       "      <td>cloudy</td>\n",
       "      <td>automatic</td>\n",
       "      <td>1.93</td>\n",
       "      <td>Position Estimation Failure</td>\n",
       "      <td>Perception System</td>\n",
       "    </tr>\n",
       "    <tr>\n",
       "      <th>3</th>\n",
       "      <td>14-Sep</td>\n",
       "      <td>WDD2221851A001072</td>\n",
       "      <td>urban-street</td>\n",
       "      <td>cloudy</td>\n",
       "      <td>automatic</td>\n",
       "      <td>0.65</td>\n",
       "      <td>Emergency Vehicle</td>\n",
       "      <td>Perception System</td>\n",
       "    </tr>\n",
       "    <tr>\n",
       "      <th>4</th>\n",
       "      <td>14-Sep</td>\n",
       "      <td>WDD2221851A001072</td>\n",
       "      <td>urban-street</td>\n",
       "      <td>cloudy</td>\n",
       "      <td>automatic</td>\n",
       "      <td>0.64</td>\n",
       "      <td>Adverse road surface conditions</td>\n",
       "      <td>Perception System</td>\n",
       "    </tr>\n",
       "    <tr>\n",
       "      <th>5</th>\n",
       "      <td>14-Sep</td>\n",
       "      <td>WDD2221851A001072</td>\n",
       "      <td>urban-street</td>\n",
       "      <td>cloudy</td>\n",
       "      <td>automatic</td>\n",
       "      <td>0.88</td>\n",
       "      <td>Incorrect Traffic Light Detection</td>\n",
       "      <td>Perception System</td>\n",
       "    </tr>\n",
       "    <tr>\n",
       "      <th>6</th>\n",
       "      <td>14-Sep</td>\n",
       "      <td>WDD2221851A001072</td>\n",
       "      <td>urban-street</td>\n",
       "      <td>cloudy</td>\n",
       "      <td>automatic</td>\n",
       "      <td>0.41</td>\n",
       "      <td>Emergency Vehicle</td>\n",
       "      <td>Perception System</td>\n",
       "    </tr>\n",
       "    <tr>\n",
       "      <th>7</th>\n",
       "      <td>14-Sep</td>\n",
       "      <td>WDD2221851A001072</td>\n",
       "      <td>urban-street</td>\n",
       "      <td>cloudy</td>\n",
       "      <td>automatic</td>\n",
       "      <td>1.45</td>\n",
       "      <td>Emergency Vehicle</td>\n",
       "      <td>Perception System</td>\n",
       "    </tr>\n",
       "    <tr>\n",
       "      <th>8</th>\n",
       "      <td>14-Sep</td>\n",
       "      <td>WDD2221851A001072</td>\n",
       "      <td>urban-street</td>\n",
       "      <td>cloudy</td>\n",
       "      <td>automatic</td>\n",
       "      <td>0.07</td>\n",
       "      <td>Software Froze</td>\n",
       "      <td>Computer System</td>\n",
       "    </tr>\n",
       "    <tr>\n",
       "      <th>9</th>\n",
       "      <td>14-Sep</td>\n",
       "      <td>WDD2221851A001072</td>\n",
       "      <td>urban-street</td>\n",
       "      <td>cloudy</td>\n",
       "      <td>automatic</td>\n",
       "      <td>0.37</td>\n",
       "      <td>Hardware Fault</td>\n",
       "      <td>Computer System</td>\n",
       "    </tr>\n",
       "    <tr>\n",
       "      <th>10</th>\n",
       "      <td>14-Sep</td>\n",
       "      <td>WDD2221851A001072</td>\n",
       "      <td>urban-street</td>\n",
       "      <td>cloudy</td>\n",
       "      <td>automatic</td>\n",
       "      <td>1.55</td>\n",
       "      <td>Emergency Vehicle</td>\n",
       "      <td>Perception System</td>\n",
       "    </tr>\n",
       "    <tr>\n",
       "      <th>11</th>\n",
       "      <td>14-Sep</td>\n",
       "      <td>WDD2221851A001072</td>\n",
       "      <td>urban-street</td>\n",
       "      <td>cloudy</td>\n",
       "      <td>automatic</td>\n",
       "      <td>0.04</td>\n",
       "      <td>Incorrect Traffic Light Detection</td>\n",
       "      <td>Perception System</td>\n",
       "    </tr>\n",
       "    <tr>\n",
       "      <th>12</th>\n",
       "      <td>14-Sep</td>\n",
       "      <td>WDD2221851A001072</td>\n",
       "      <td>urban-street</td>\n",
       "      <td>cloudy</td>\n",
       "      <td>automatic</td>\n",
       "      <td>0.40</td>\n",
       "      <td>Incorrect behavior prediction of others</td>\n",
       "      <td>Controller</td>\n",
       "    </tr>\n",
       "    <tr>\n",
       "      <th>13</th>\n",
       "      <td>14-Sep</td>\n",
       "      <td>WDD2221851A001072</td>\n",
       "      <td>urban-street</td>\n",
       "      <td>cloudy</td>\n",
       "      <td>automatic</td>\n",
       "      <td>1.86</td>\n",
       "      <td>Emergency Vehicle</td>\n",
       "      <td>Perception System</td>\n",
       "    </tr>\n",
       "    <tr>\n",
       "      <th>14</th>\n",
       "      <td>14-Sep</td>\n",
       "      <td>WDD2221851A001072</td>\n",
       "      <td>urban-street</td>\n",
       "      <td>cloudy</td>\n",
       "      <td>automatic</td>\n",
       "      <td>0.21</td>\n",
       "      <td>Adverse road surface conditions</td>\n",
       "      <td>Perception System</td>\n",
       "    </tr>\n",
       "    <tr>\n",
       "      <th>15</th>\n",
       "      <td>14-Sep</td>\n",
       "      <td>WDD2221851A001072</td>\n",
       "      <td>urban-street</td>\n",
       "      <td>cloudy</td>\n",
       "      <td>automatic</td>\n",
       "      <td>0.51</td>\n",
       "      <td>Recklessly behaving agent</td>\n",
       "      <td>Controller</td>\n",
       "    </tr>\n",
       "    <tr>\n",
       "      <th>16</th>\n",
       "      <td>14-Sep</td>\n",
       "      <td>WDD2221851A001072</td>\n",
       "      <td>urban-street</td>\n",
       "      <td>cloudy</td>\n",
       "      <td>manual</td>\n",
       "      <td>NaN</td>\n",
       "      <td>Recklessly behaving agent</td>\n",
       "      <td>Controller</td>\n",
       "    </tr>\n",
       "    <tr>\n",
       "      <th>17</th>\n",
       "      <td>14-Sep</td>\n",
       "      <td>WDD2221851A001072</td>\n",
       "      <td>urban-street</td>\n",
       "      <td>cloudy</td>\n",
       "      <td>automatic</td>\n",
       "      <td>0.38</td>\n",
       "      <td>System Tuning and Calibration</td>\n",
       "      <td>Computer System</td>\n",
       "    </tr>\n",
       "    <tr>\n",
       "      <th>18</th>\n",
       "      <td>14-Sep</td>\n",
       "      <td>WDD2221851A001072</td>\n",
       "      <td>urban-street</td>\n",
       "      <td>cloudy</td>\n",
       "      <td>manual</td>\n",
       "      <td>NaN</td>\n",
       "      <td>Unwanted Driver Discomfort</td>\n",
       "      <td>Controller</td>\n",
       "    </tr>\n",
       "    <tr>\n",
       "      <th>19</th>\n",
       "      <td>14-Sep</td>\n",
       "      <td>WDD2221851A001072</td>\n",
       "      <td>urban-street</td>\n",
       "      <td>cloudy</td>\n",
       "      <td>automatic</td>\n",
       "      <td>0.22</td>\n",
       "      <td>Incorrect Traffic Light Detection</td>\n",
       "      <td>Perception System</td>\n",
       "    </tr>\n",
       "    <tr>\n",
       "      <th>20</th>\n",
       "      <td>14-Sep</td>\n",
       "      <td>WDD2221851A001072</td>\n",
       "      <td>urban-street</td>\n",
       "      <td>cloudy</td>\n",
       "      <td>manual</td>\n",
       "      <td>NaN</td>\n",
       "      <td>Unwanted Driver Discomfort</td>\n",
       "      <td>Controller</td>\n",
       "    </tr>\n",
       "    <tr>\n",
       "      <th>21</th>\n",
       "      <td>14-Sep</td>\n",
       "      <td>WDD2221851A001072</td>\n",
       "      <td>urban-street</td>\n",
       "      <td>cloudy</td>\n",
       "      <td>manual</td>\n",
       "      <td>NaN</td>\n",
       "      <td>Incorrect behavior prediction of others</td>\n",
       "      <td>Controller</td>\n",
       "    </tr>\n",
       "    <tr>\n",
       "      <th>22</th>\n",
       "      <td>14-Sep</td>\n",
       "      <td>WDD2221851A001072</td>\n",
       "      <td>urban-street</td>\n",
       "      <td>cloudy</td>\n",
       "      <td>automatic</td>\n",
       "      <td>1.38</td>\n",
       "      <td>Adverse road surface conditions</td>\n",
       "      <td>Perception System</td>\n",
       "    </tr>\n",
       "    <tr>\n",
       "      <th>23</th>\n",
       "      <td>14-Sep</td>\n",
       "      <td>WDD2221851A001072</td>\n",
       "      <td>urban-street</td>\n",
       "      <td>cloudy</td>\n",
       "      <td>manual</td>\n",
       "      <td>NaN</td>\n",
       "      <td>Software Froze</td>\n",
       "      <td>Computer System</td>\n",
       "    </tr>\n",
       "    <tr>\n",
       "      <th>24</th>\n",
       "      <td>14-Sep</td>\n",
       "      <td>WDD2221851A001072</td>\n",
       "      <td>urban-street</td>\n",
       "      <td>cloudy</td>\n",
       "      <td>manual</td>\n",
       "      <td>NaN</td>\n",
       "      <td>Recklessly behaving agent</td>\n",
       "      <td>Controller</td>\n",
       "    </tr>\n",
       "    <tr>\n",
       "      <th>25</th>\n",
       "      <td>14-Sep</td>\n",
       "      <td>WDD2221851A001072</td>\n",
       "      <td>urban-street</td>\n",
       "      <td>cloudy</td>\n",
       "      <td>automatic</td>\n",
       "      <td>0.44</td>\n",
       "      <td>Unwanted Driver Discomfort</td>\n",
       "      <td>Controller</td>\n",
       "    </tr>\n",
       "    <tr>\n",
       "      <th>26</th>\n",
       "      <td>14-Sep</td>\n",
       "      <td>WDD2221851A001072</td>\n",
       "      <td>urban-street</td>\n",
       "      <td>cloudy</td>\n",
       "      <td>manual</td>\n",
       "      <td>NaN</td>\n",
       "      <td>Software Froze</td>\n",
       "      <td>Computer System</td>\n",
       "    </tr>\n",
       "    <tr>\n",
       "      <th>27</th>\n",
       "      <td>14-Sep</td>\n",
       "      <td>WDD2221851A001072</td>\n",
       "      <td>urban-street</td>\n",
       "      <td>cloudy</td>\n",
       "      <td>manual</td>\n",
       "      <td>NaN</td>\n",
       "      <td>Hardware Fault</td>\n",
       "      <td>Computer System</td>\n",
       "    </tr>\n",
       "    <tr>\n",
       "      <th>28</th>\n",
       "      <td>14-Sep</td>\n",
       "      <td>WDD2221851A001072</td>\n",
       "      <td>urban-street</td>\n",
       "      <td>cloudy</td>\n",
       "      <td>automatic</td>\n",
       "      <td>0.04</td>\n",
       "      <td>Unwanted Driver Discomfort</td>\n",
       "      <td>Controller</td>\n",
       "    </tr>\n",
       "    <tr>\n",
       "      <th>29</th>\n",
       "      <td>14-Sep</td>\n",
       "      <td>WDD2221851A001072</td>\n",
       "      <td>urban-street</td>\n",
       "      <td>cloudy</td>\n",
       "      <td>manual</td>\n",
       "      <td>NaN</td>\n",
       "      <td>Recklessly behaving agent</td>\n",
       "      <td>Controller</td>\n",
       "    </tr>\n",
       "    <tr>\n",
       "      <th>...</th>\n",
       "      <td>...</td>\n",
       "      <td>...</td>\n",
       "      <td>...</td>\n",
       "      <td>...</td>\n",
       "      <td>...</td>\n",
       "      <td>...</td>\n",
       "      <td>...</td>\n",
       "      <td>...</td>\n",
       "    </tr>\n",
       "    <tr>\n",
       "      <th>994</th>\n",
       "      <td>14-Nov</td>\n",
       "      <td>WDD2221851A000495</td>\n",
       "      <td>urban-street</td>\n",
       "      <td>clear</td>\n",
       "      <td>automatic</td>\n",
       "      <td>0.18</td>\n",
       "      <td>Hardware Fault</td>\n",
       "      <td>Computer System</td>\n",
       "    </tr>\n",
       "    <tr>\n",
       "      <th>995</th>\n",
       "      <td>14-Nov</td>\n",
       "      <td>WDD2221851A000495</td>\n",
       "      <td>urban-street</td>\n",
       "      <td>clear</td>\n",
       "      <td>automatic</td>\n",
       "      <td>21.00</td>\n",
       "      <td>System Tuning and Calibration</td>\n",
       "      <td>Computer System</td>\n",
       "    </tr>\n",
       "    <tr>\n",
       "      <th>996</th>\n",
       "      <td>14-Nov</td>\n",
       "      <td>WDD2221851A000495</td>\n",
       "      <td>urban-street</td>\n",
       "      <td>clear</td>\n",
       "      <td>automatic</td>\n",
       "      <td>1.06</td>\n",
       "      <td>System Tuning and Calibration</td>\n",
       "      <td>Computer System</td>\n",
       "    </tr>\n",
       "    <tr>\n",
       "      <th>997</th>\n",
       "      <td>14-Nov</td>\n",
       "      <td>WDD2221851A000495</td>\n",
       "      <td>urban-street</td>\n",
       "      <td>clear</td>\n",
       "      <td>manual</td>\n",
       "      <td>NaN</td>\n",
       "      <td>System Tuning and Calibration</td>\n",
       "      <td>Computer System</td>\n",
       "    </tr>\n",
       "    <tr>\n",
       "      <th>998</th>\n",
       "      <td>14-Nov</td>\n",
       "      <td>WDD2221851A000495</td>\n",
       "      <td>urban-street</td>\n",
       "      <td>clear</td>\n",
       "      <td>manual</td>\n",
       "      <td>NaN</td>\n",
       "      <td>Hardware Fault</td>\n",
       "      <td>Computer System</td>\n",
       "    </tr>\n",
       "    <tr>\n",
       "      <th>999</th>\n",
       "      <td>14-Nov</td>\n",
       "      <td>WDD2221851A000495</td>\n",
       "      <td>urban-street</td>\n",
       "      <td>clear</td>\n",
       "      <td>manual</td>\n",
       "      <td>NaN</td>\n",
       "      <td>Software Froze</td>\n",
       "      <td>Computer System</td>\n",
       "    </tr>\n",
       "    <tr>\n",
       "      <th>1000</th>\n",
       "      <td>14-Nov</td>\n",
       "      <td>WDD2221851A000495</td>\n",
       "      <td>urban-street</td>\n",
       "      <td>clear</td>\n",
       "      <td>automatic</td>\n",
       "      <td>1.92</td>\n",
       "      <td>System Tuning and Calibration</td>\n",
       "      <td>Computer System</td>\n",
       "    </tr>\n",
       "    <tr>\n",
       "      <th>1001</th>\n",
       "      <td>14-Nov</td>\n",
       "      <td>WDD2221851A000495</td>\n",
       "      <td>urban-street</td>\n",
       "      <td>clear</td>\n",
       "      <td>automatic</td>\n",
       "      <td>0.20</td>\n",
       "      <td>System Tuning and Calibration</td>\n",
       "      <td>Computer System</td>\n",
       "    </tr>\n",
       "    <tr>\n",
       "      <th>1002</th>\n",
       "      <td>14-Nov</td>\n",
       "      <td>WDD2221851A000495</td>\n",
       "      <td>urban-street</td>\n",
       "      <td>clear</td>\n",
       "      <td>automatic</td>\n",
       "      <td>1.12</td>\n",
       "      <td>Hardware Fault</td>\n",
       "      <td>Computer System</td>\n",
       "    </tr>\n",
       "    <tr>\n",
       "      <th>1003</th>\n",
       "      <td>14-Nov</td>\n",
       "      <td>WDD2221851A000495</td>\n",
       "      <td>urban-street</td>\n",
       "      <td>clear</td>\n",
       "      <td>manual</td>\n",
       "      <td>NaN</td>\n",
       "      <td>Recklessly behaving agent</td>\n",
       "      <td>Controller</td>\n",
       "    </tr>\n",
       "    <tr>\n",
       "      <th>1004</th>\n",
       "      <td>14-Nov</td>\n",
       "      <td>WDD2221851A000495</td>\n",
       "      <td>urban-street</td>\n",
       "      <td>clear</td>\n",
       "      <td>manual</td>\n",
       "      <td>NaN</td>\n",
       "      <td>System Tuning and Calibration</td>\n",
       "      <td>Computer System</td>\n",
       "    </tr>\n",
       "    <tr>\n",
       "      <th>1005</th>\n",
       "      <td>14-Nov</td>\n",
       "      <td>WDD2221851A000495</td>\n",
       "      <td>urban-street</td>\n",
       "      <td>clear</td>\n",
       "      <td>manual</td>\n",
       "      <td>NaN</td>\n",
       "      <td>System Tuning and Calibration</td>\n",
       "      <td>Computer System</td>\n",
       "    </tr>\n",
       "    <tr>\n",
       "      <th>1006</th>\n",
       "      <td>14-Nov</td>\n",
       "      <td>WDD2221851A000495</td>\n",
       "      <td>urban-street</td>\n",
       "      <td>clear</td>\n",
       "      <td>automatic</td>\n",
       "      <td>0.29</td>\n",
       "      <td>Software Froze</td>\n",
       "      <td>Computer System</td>\n",
       "    </tr>\n",
       "    <tr>\n",
       "      <th>1007</th>\n",
       "      <td>14-Nov</td>\n",
       "      <td>WDD2221851A000495</td>\n",
       "      <td>urban-street</td>\n",
       "      <td>clear</td>\n",
       "      <td>automatic</td>\n",
       "      <td>1.48</td>\n",
       "      <td>System Tuning and Calibration</td>\n",
       "      <td>Computer System</td>\n",
       "    </tr>\n",
       "    <tr>\n",
       "      <th>1008</th>\n",
       "      <td>14-Nov</td>\n",
       "      <td>WDD2221851A000495</td>\n",
       "      <td>urban-street</td>\n",
       "      <td>clear</td>\n",
       "      <td>automatic</td>\n",
       "      <td>0.45</td>\n",
       "      <td>Software Froze</td>\n",
       "      <td>Computer System</td>\n",
       "    </tr>\n",
       "    <tr>\n",
       "      <th>1009</th>\n",
       "      <td>14-Nov</td>\n",
       "      <td>WDD2221851A000495</td>\n",
       "      <td>urban-street</td>\n",
       "      <td>clear</td>\n",
       "      <td>manual</td>\n",
       "      <td>NaN</td>\n",
       "      <td>System Tuning and Calibration</td>\n",
       "      <td>Computer System</td>\n",
       "    </tr>\n",
       "    <tr>\n",
       "      <th>1010</th>\n",
       "      <td>14-Nov</td>\n",
       "      <td>WDD2221851A000495</td>\n",
       "      <td>urban-street</td>\n",
       "      <td>clear</td>\n",
       "      <td>manual</td>\n",
       "      <td>NaN</td>\n",
       "      <td>Software Froze</td>\n",
       "      <td>Computer System</td>\n",
       "    </tr>\n",
       "    <tr>\n",
       "      <th>1011</th>\n",
       "      <td>14-Nov</td>\n",
       "      <td>WDD2221851A000495</td>\n",
       "      <td>urban-street</td>\n",
       "      <td>clear</td>\n",
       "      <td>manual</td>\n",
       "      <td>NaN</td>\n",
       "      <td>System Tuning and Calibration</td>\n",
       "      <td>Computer System</td>\n",
       "    </tr>\n",
       "    <tr>\n",
       "      <th>1012</th>\n",
       "      <td>14-Nov</td>\n",
       "      <td>WDD2221851A000495</td>\n",
       "      <td>urban-street</td>\n",
       "      <td>clear</td>\n",
       "      <td>automatic</td>\n",
       "      <td>1.85</td>\n",
       "      <td>System Tuning and Calibration</td>\n",
       "      <td>Computer System</td>\n",
       "    </tr>\n",
       "    <tr>\n",
       "      <th>1013</th>\n",
       "      <td>14-Nov</td>\n",
       "      <td>WDD2221851A000495</td>\n",
       "      <td>urban-street</td>\n",
       "      <td>clear</td>\n",
       "      <td>automatic</td>\n",
       "      <td>2.11</td>\n",
       "      <td>Hardware Fault</td>\n",
       "      <td>Computer System</td>\n",
       "    </tr>\n",
       "    <tr>\n",
       "      <th>1014</th>\n",
       "      <td>14-Nov</td>\n",
       "      <td>WDD2221851A000495</td>\n",
       "      <td>urban-street</td>\n",
       "      <td>clear</td>\n",
       "      <td>automatic</td>\n",
       "      <td>0.90</td>\n",
       "      <td>Software Froze</td>\n",
       "      <td>Computer System</td>\n",
       "    </tr>\n",
       "    <tr>\n",
       "      <th>1015</th>\n",
       "      <td>14-Nov</td>\n",
       "      <td>WDD2221851A000495</td>\n",
       "      <td>urban-street</td>\n",
       "      <td>clear</td>\n",
       "      <td>automatic</td>\n",
       "      <td>1.25</td>\n",
       "      <td>System Tuning and Calibration</td>\n",
       "      <td>Computer System</td>\n",
       "    </tr>\n",
       "    <tr>\n",
       "      <th>1016</th>\n",
       "      <td>14-Nov</td>\n",
       "      <td>WDD2221851A000495</td>\n",
       "      <td>urban-street</td>\n",
       "      <td>clear</td>\n",
       "      <td>manual</td>\n",
       "      <td>NaN</td>\n",
       "      <td>System Tuning and Calibration</td>\n",
       "      <td>Computer System</td>\n",
       "    </tr>\n",
       "    <tr>\n",
       "      <th>1017</th>\n",
       "      <td>14-Nov</td>\n",
       "      <td>WDD2221851A000495</td>\n",
       "      <td>urban-street</td>\n",
       "      <td>clear</td>\n",
       "      <td>manual</td>\n",
       "      <td>NaN</td>\n",
       "      <td>Hardware Fault</td>\n",
       "      <td>Computer System</td>\n",
       "    </tr>\n",
       "    <tr>\n",
       "      <th>1018</th>\n",
       "      <td>14-Nov</td>\n",
       "      <td>WDD2221851A000495</td>\n",
       "      <td>urban-street</td>\n",
       "      <td>clear</td>\n",
       "      <td>manual</td>\n",
       "      <td>NaN</td>\n",
       "      <td>Software Froze</td>\n",
       "      <td>Computer System</td>\n",
       "    </tr>\n",
       "    <tr>\n",
       "      <th>1019</th>\n",
       "      <td>14-Nov</td>\n",
       "      <td>WDD2221851A000495</td>\n",
       "      <td>urban-street</td>\n",
       "      <td>clear</td>\n",
       "      <td>manual</td>\n",
       "      <td>NaN</td>\n",
       "      <td>Hardware Fault</td>\n",
       "      <td>Computer System</td>\n",
       "    </tr>\n",
       "    <tr>\n",
       "      <th>1020</th>\n",
       "      <td>14-Nov</td>\n",
       "      <td>WDD2221851A000495</td>\n",
       "      <td>urban-street</td>\n",
       "      <td>clear</td>\n",
       "      <td>manual</td>\n",
       "      <td>NaN</td>\n",
       "      <td>System Tuning and Calibration</td>\n",
       "      <td>Computer System</td>\n",
       "    </tr>\n",
       "    <tr>\n",
       "      <th>1021</th>\n",
       "      <td>14-Nov</td>\n",
       "      <td>WDD2221851A000495</td>\n",
       "      <td>highway</td>\n",
       "      <td>clear</td>\n",
       "      <td>manual</td>\n",
       "      <td>NaN</td>\n",
       "      <td>System Tuning and Calibration</td>\n",
       "      <td>Computer System</td>\n",
       "    </tr>\n",
       "    <tr>\n",
       "      <th>1022</th>\n",
       "      <td>14-Nov</td>\n",
       "      <td>WDD2221851A000495</td>\n",
       "      <td>urban-street</td>\n",
       "      <td>clear</td>\n",
       "      <td>manual</td>\n",
       "      <td>NaN</td>\n",
       "      <td>Hardware Fault</td>\n",
       "      <td>Computer System</td>\n",
       "    </tr>\n",
       "    <tr>\n",
       "      <th>1023</th>\n",
       "      <td>14-Nov</td>\n",
       "      <td>WDD2221851A000495</td>\n",
       "      <td>urban-street</td>\n",
       "      <td>clear</td>\n",
       "      <td>manual</td>\n",
       "      <td>NaN</td>\n",
       "      <td>System Tuning and Calibration</td>\n",
       "      <td>Computer System</td>\n",
       "    </tr>\n",
       "  </tbody>\n",
       "</table>\n",
       "<p>1024 rows × 8 columns</p>\n",
       "</div>"
      ],
      "text/plain": [
       "       Month                Car      Location Weather TypeOfTrigger  \\\n",
       "0     14-Sep  WDD2221851A001072  urban-street  cloudy     automatic   \n",
       "1     14-Sep  WDD2221851A001072  urban-street  cloudy     automatic   \n",
       "2     14-Sep  WDD2221851A001072  urban-street  cloudy     automatic   \n",
       "3     14-Sep  WDD2221851A001072  urban-street  cloudy     automatic   \n",
       "4     14-Sep  WDD2221851A001072  urban-street  cloudy     automatic   \n",
       "5     14-Sep  WDD2221851A001072  urban-street  cloudy     automatic   \n",
       "6     14-Sep  WDD2221851A001072  urban-street  cloudy     automatic   \n",
       "7     14-Sep  WDD2221851A001072  urban-street  cloudy     automatic   \n",
       "8     14-Sep  WDD2221851A001072  urban-street  cloudy     automatic   \n",
       "9     14-Sep  WDD2221851A001072  urban-street  cloudy     automatic   \n",
       "10    14-Sep  WDD2221851A001072  urban-street  cloudy     automatic   \n",
       "11    14-Sep  WDD2221851A001072  urban-street  cloudy     automatic   \n",
       "12    14-Sep  WDD2221851A001072  urban-street  cloudy     automatic   \n",
       "13    14-Sep  WDD2221851A001072  urban-street  cloudy     automatic   \n",
       "14    14-Sep  WDD2221851A001072  urban-street  cloudy     automatic   \n",
       "15    14-Sep  WDD2221851A001072  urban-street  cloudy     automatic   \n",
       "16    14-Sep  WDD2221851A001072  urban-street  cloudy        manual   \n",
       "17    14-Sep  WDD2221851A001072  urban-street  cloudy     automatic   \n",
       "18    14-Sep  WDD2221851A001072  urban-street  cloudy        manual   \n",
       "19    14-Sep  WDD2221851A001072  urban-street  cloudy     automatic   \n",
       "20    14-Sep  WDD2221851A001072  urban-street  cloudy        manual   \n",
       "21    14-Sep  WDD2221851A001072  urban-street  cloudy        manual   \n",
       "22    14-Sep  WDD2221851A001072  urban-street  cloudy     automatic   \n",
       "23    14-Sep  WDD2221851A001072  urban-street  cloudy        manual   \n",
       "24    14-Sep  WDD2221851A001072  urban-street  cloudy        manual   \n",
       "25    14-Sep  WDD2221851A001072  urban-street  cloudy     automatic   \n",
       "26    14-Sep  WDD2221851A001072  urban-street  cloudy        manual   \n",
       "27    14-Sep  WDD2221851A001072  urban-street  cloudy        manual   \n",
       "28    14-Sep  WDD2221851A001072  urban-street  cloudy     automatic   \n",
       "29    14-Sep  WDD2221851A001072  urban-street  cloudy        manual   \n",
       "...      ...                ...           ...     ...           ...   \n",
       "994   14-Nov  WDD2221851A000495  urban-street   clear     automatic   \n",
       "995   14-Nov  WDD2221851A000495  urban-street   clear     automatic   \n",
       "996   14-Nov  WDD2221851A000495  urban-street   clear     automatic   \n",
       "997   14-Nov  WDD2221851A000495  urban-street   clear        manual   \n",
       "998   14-Nov  WDD2221851A000495  urban-street   clear        manual   \n",
       "999   14-Nov  WDD2221851A000495  urban-street   clear        manual   \n",
       "1000  14-Nov  WDD2221851A000495  urban-street   clear     automatic   \n",
       "1001  14-Nov  WDD2221851A000495  urban-street   clear     automatic   \n",
       "1002  14-Nov  WDD2221851A000495  urban-street   clear     automatic   \n",
       "1003  14-Nov  WDD2221851A000495  urban-street   clear        manual   \n",
       "1004  14-Nov  WDD2221851A000495  urban-street   clear        manual   \n",
       "1005  14-Nov  WDD2221851A000495  urban-street   clear        manual   \n",
       "1006  14-Nov  WDD2221851A000495  urban-street   clear     automatic   \n",
       "1007  14-Nov  WDD2221851A000495  urban-street   clear     automatic   \n",
       "1008  14-Nov  WDD2221851A000495  urban-street   clear     automatic   \n",
       "1009  14-Nov  WDD2221851A000495  urban-street   clear        manual   \n",
       "1010  14-Nov  WDD2221851A000495  urban-street   clear        manual   \n",
       "1011  14-Nov  WDD2221851A000495  urban-street   clear        manual   \n",
       "1012  14-Nov  WDD2221851A000495  urban-street   clear     automatic   \n",
       "1013  14-Nov  WDD2221851A000495  urban-street   clear     automatic   \n",
       "1014  14-Nov  WDD2221851A000495  urban-street   clear     automatic   \n",
       "1015  14-Nov  WDD2221851A000495  urban-street   clear     automatic   \n",
       "1016  14-Nov  WDD2221851A000495  urban-street   clear        manual   \n",
       "1017  14-Nov  WDD2221851A000495  urban-street   clear        manual   \n",
       "1018  14-Nov  WDD2221851A000495  urban-street   clear        manual   \n",
       "1019  14-Nov  WDD2221851A000495  urban-street   clear        manual   \n",
       "1020  14-Nov  WDD2221851A000495  urban-street   clear        manual   \n",
       "1021  14-Nov  WDD2221851A000495       highway   clear        manual   \n",
       "1022  14-Nov  WDD2221851A000495  urban-street   clear        manual   \n",
       "1023  14-Nov  WDD2221851A000495  urban-street   clear        manual   \n",
       "\n",
       "      ReactionTime                                    Cause              Class  \n",
       "0             0.58        Incorrect Traffic Light Detection  Perception System  \n",
       "1             0.66          Adverse road surface conditions  Perception System  \n",
       "2             1.93              Position Estimation Failure  Perception System  \n",
       "3             0.65                        Emergency Vehicle  Perception System  \n",
       "4             0.64          Adverse road surface conditions  Perception System  \n",
       "5             0.88        Incorrect Traffic Light Detection  Perception System  \n",
       "6             0.41                        Emergency Vehicle  Perception System  \n",
       "7             1.45                        Emergency Vehicle  Perception System  \n",
       "8             0.07                           Software Froze    Computer System  \n",
       "9             0.37                           Hardware Fault    Computer System  \n",
       "10            1.55                        Emergency Vehicle  Perception System  \n",
       "11            0.04        Incorrect Traffic Light Detection  Perception System  \n",
       "12            0.40  Incorrect behavior prediction of others         Controller  \n",
       "13            1.86                        Emergency Vehicle  Perception System  \n",
       "14            0.21          Adverse road surface conditions  Perception System  \n",
       "15            0.51                Recklessly behaving agent         Controller  \n",
       "16             NaN                Recklessly behaving agent         Controller  \n",
       "17            0.38            System Tuning and Calibration    Computer System  \n",
       "18             NaN               Unwanted Driver Discomfort         Controller  \n",
       "19            0.22        Incorrect Traffic Light Detection  Perception System  \n",
       "20             NaN               Unwanted Driver Discomfort         Controller  \n",
       "21             NaN  Incorrect behavior prediction of others         Controller  \n",
       "22            1.38          Adverse road surface conditions  Perception System  \n",
       "23             NaN                           Software Froze    Computer System  \n",
       "24             NaN                Recklessly behaving agent         Controller  \n",
       "25            0.44               Unwanted Driver Discomfort         Controller  \n",
       "26             NaN                           Software Froze    Computer System  \n",
       "27             NaN                           Hardware Fault    Computer System  \n",
       "28            0.04               Unwanted Driver Discomfort         Controller  \n",
       "29             NaN                Recklessly behaving agent         Controller  \n",
       "...            ...                                      ...                ...  \n",
       "994           0.18                           Hardware Fault    Computer System  \n",
       "995          21.00            System Tuning and Calibration    Computer System  \n",
       "996           1.06            System Tuning and Calibration    Computer System  \n",
       "997            NaN            System Tuning and Calibration    Computer System  \n",
       "998            NaN                           Hardware Fault    Computer System  \n",
       "999            NaN                           Software Froze    Computer System  \n",
       "1000          1.92            System Tuning and Calibration    Computer System  \n",
       "1001          0.20            System Tuning and Calibration    Computer System  \n",
       "1002          1.12                           Hardware Fault    Computer System  \n",
       "1003           NaN                Recklessly behaving agent         Controller  \n",
       "1004           NaN            System Tuning and Calibration    Computer System  \n",
       "1005           NaN            System Tuning and Calibration    Computer System  \n",
       "1006          0.29                           Software Froze    Computer System  \n",
       "1007          1.48            System Tuning and Calibration    Computer System  \n",
       "1008          0.45                           Software Froze    Computer System  \n",
       "1009           NaN            System Tuning and Calibration    Computer System  \n",
       "1010           NaN                           Software Froze    Computer System  \n",
       "1011           NaN            System Tuning and Calibration    Computer System  \n",
       "1012          1.85            System Tuning and Calibration    Computer System  \n",
       "1013          2.11                           Hardware Fault    Computer System  \n",
       "1014          0.90                           Software Froze    Computer System  \n",
       "1015          1.25            System Tuning and Calibration    Computer System  \n",
       "1016           NaN            System Tuning and Calibration    Computer System  \n",
       "1017           NaN                           Hardware Fault    Computer System  \n",
       "1018           NaN                           Software Froze    Computer System  \n",
       "1019           NaN                           Hardware Fault    Computer System  \n",
       "1020           NaN            System Tuning and Calibration    Computer System  \n",
       "1021           NaN            System Tuning and Calibration    Computer System  \n",
       "1022           NaN                           Hardware Fault    Computer System  \n",
       "1023           NaN            System Tuning and Calibration    Computer System  \n",
       "\n",
       "[1024 rows x 8 columns]"
      ]
     },
     "execution_count": 81,
     "metadata": {},
     "output_type": "execute_result"
    }
   ],
   "source": [
    "df_disengagements"
   ]
  },
  {
   "cell_type": "code",
   "execution_count": null,
   "metadata": {},
   "outputs": [],
   "source": []
  }
 ],
 "metadata": {
  "colab": {
   "collapsed_sections": [],
   "name": "Task 0.ipynb",
   "provenance": [],
   "toc_visible": true,
   "version": "0.3.2"
  },
  "kernelspec": {
   "display_name": "Python 3",
   "language": "python",
   "name": "python3"
  },
  "language_info": {
   "codemirror_mode": {
    "name": "ipython",
    "version": 3
   },
   "file_extension": ".py",
   "mimetype": "text/x-python",
   "name": "python",
   "nbconvert_exporter": "python",
   "pygments_lexer": "ipython3",
   "version": "3.5.5"
  }
 },
 "nbformat": 4,
 "nbformat_minor": 1
}
